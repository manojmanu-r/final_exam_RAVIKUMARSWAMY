{
 "cells": [
  {
   "cell_type": "code",
   "execution_count": 14,
   "id": "b2e0cdd8-d655-4683-ae6f-00962c3dc436",
   "metadata": {},
   "outputs": [
    {
     "name": "stdout",
     "output_type": "stream",
     "text": [
      "The square of 1 is 1\n",
      "The square of 2 is 4\n",
      "The square of 3 is 9\n",
      "The square of 4 is 16\n",
      "The square of 5 is 25\n",
      "The square of 6 is 36\n",
      "The square of 7 is 49\n",
      "The square of 8 is 64\n",
      "The square of 9 is 81\n",
      "The square of 10 is 100\n",
      "The square of 11 is 121\n",
      "The square of 12 is 144\n",
      "The square of 13 is 169\n",
      "The square of 14 is 196\n",
      "The square of 15 is 225\n",
      "The square of 16 is 256\n",
      "The square of 17 is 289\n",
      "The square of 18 is 324\n",
      "The square of 19 is 361\n"
     ]
    }
   ],
   "source": [
    "# Task 1: Print squares of numbers from 1 to 19\n",
    "\n",
    "# Looping through numbers from 1 to 19 \n",
    "for number in range(1, 20):\n",
    "    # Calculating the square of the current number\n",
    "    square = number ** 2\n",
    "    # Printing the square\n",
    "    print(f\"The square of {number} is {square}\")"
   ]
  },
  {
   "cell_type": "code",
   "execution_count": 12,
   "id": "f1da83f1-1be3-49a4-9fbb-e126d8ed3ec7",
   "metadata": {},
   "outputs": [
    {
     "name": "stdout",
     "output_type": "stream",
     "text": [
      "['Try again', 'Pass', 'Pass', 'Try again', 'Pass']\n"
     ]
    }
   ],
   "source": [
    "# Task 2: Define a function to check grades\n",
    "def check_grades(grades):\n",
    "    results = []\n",
    "    for grade in grades:\n",
    "        if grade >= 81:\n",
    "            results.append(\"Pass\")\n",
    "        else:\n",
    "            results.append(\"Try again\")\n",
    "    return results\n",
    "\n",
    "# Test the function\n",
    "grades_list = [60, 85, 90, 77, 81]\n",
    "print(check_grades(grades_list))"
   ]
  },
  {
   "cell_type": "code",
   "execution_count": 16,
   "id": "79cc6393-ac0d-47d8-b3dd-cd178e9d38e6",
   "metadata": {},
   "outputs": [
    {
     "name": "stdout",
     "output_type": "stream",
     "text": [
      "Total number of vowels: 32\n",
      "a: 11\n",
      "e: 9\n",
      "i: 7\n",
      "o: 5\n",
      "u: 0\n"
     ]
    }
   ],
   "source": [
    "# Task 3: Function to count vowels in a given string\n",
    "\n",
    "# Defining a function that takes a text string and counts vowels\n",
    "def count_vowels(text):\n",
    "    # List of vowels to check (in lowercase)\n",
    "    vowels = ['a', 'e', 'i', 'o', 'u']\n",
    "    # Dictionary to keep count of each vowel\n",
    "    vowel_counts = {vowel: 0 for vowel in vowels}\n",
    "    # Loop through each character in the text\n",
    "    for char in text.lower():\n",
    "        # If the character is a vowel, increment its count\n",
    "        if char in vowels:\n",
    "            vowel_counts[char] += 1\n",
    "    # Calculate total vowels by summing all values in the dictionary\n",
    "    total_vowels = sum(vowel_counts.values())\n",
    "    # Print the total number of vowels\n",
    "    print(f\"Total number of vowels: {total_vowels}\")\n",
    "    # Print how many times each vowel appears\n",
    "    for vowel, count in vowel_counts.items():\n",
    "        print(f\"{vowel}: {count}\")\n",
    "\n",
    "# Input string from the task\n",
    "input_text = \"If we have data, let's look at data. If all we have are opinions, let's go with mine.\\\" Jim Barksdale\"\n",
    "\n",
    "# Call the function with the input string\n",
    "count_vowels(input_text)"
   ]
  },
  {
   "cell_type": "code",
   "execution_count": 20,
   "id": "4e76982e-23ba-4c5a-8b2c-bbda59992f57",
   "metadata": {},
   "outputs": [
    {
     "name": "stdin",
     "output_type": "stream",
     "text": [
      "Enter a number (or type 'done' to finish):  10\n",
      "Enter a number (or type 'done' to finish):  20\n",
      "Enter a number (or type 'done' to finish):  30\n",
      "Enter a number (or type 'done' to finish):  40\n",
      "Enter a number (or type 'done' to finish):  DONE\n"
     ]
    },
    {
     "name": "stdout",
     "output_type": "stream",
     "text": [
      "Total numbers entered: 4\n",
      "Average: 25.0\n"
     ]
    }
   ],
   "source": [
    "# Task 4: Collect numbers from user until \"done\" is entered\n",
    "\n",
    "# Initialize an empty list to store numbers\n",
    "numbers = []\n",
    "\n",
    "# Start an infinite loop to collect input\n",
    "while True:\n",
    "    # Ask the user to input a number or type 'done'\n",
    "    user_input = input(\"Enter a number (or type 'done' to finish): \").strip()\n",
    "    \n",
    "    # Check if the input is 'done' (case-insensitive)\n",
    "    if user_input.lower() == \"done\":\n",
    "        # Exit the loop if user is done entering numbers\n",
    "        break\n",
    "    # Check if input is empty\n",
    "    elif user_input == \"\":\n",
    "        # Show message for empty input\n",
    "        print(\"Invalid input. Try again.\")\n",
    "        continue\n",
    "    try:\n",
    "        # Try converting the input to a float\n",
    "        number = float(user_input)\n",
    "        # Append the valid number to the list\n",
    "        numbers.append(number)\n",
    "    except ValueError:\n",
    "        # If conversion fails, print an error message\n",
    "        print(\"Invalid input. Try again.\")\n",
    "\n",
    "# After exiting the loop, print the total and average if list is not empty\n",
    "if numbers:\n",
    "    # Calculate total number of values\n",
    "    total_values = len(numbers)\n",
    "    # Calculate average and round to 2 decimal places\n",
    "    average = round(sum(numbers) / total_values, 2)\n",
    "    # Print the results\n",
    "    print(f\"Total numbers entered: {total_values}\")\n",
    "    print(f\"Average: {average}\")\n",
    "else:\n",
    "    # If no valid numbers were entered\n",
    "    print(\"No valid numbers were entered.\")"
   ]
  },
  {
   "cell_type": "code",
   "execution_count": 22,
   "id": "d5be46ca-f9ff-45a8-8ec9-70f8e5778558",
   "metadata": {},
   "outputs": [
    {
     "name": "stdout",
     "output_type": "stream",
     "text": [
      "Alice spent $170\n",
      "Bob spent $100\n",
      "Clara spent $200\n"
     ]
    }
   ],
   "source": [
    "# Task 5: Calculate total amount spent by each customer\n",
    "\n",
    "# Sample list of purchase data as (customer_name, amount)\n",
    "purchases = [(\"Alice\", 120), (\"Bob\", 80), (\"Alice\", 50), (\"Bob\", 20), (\"Clara\", 200)]\n",
    "\n",
    "# Create an empty dictionary to store total spending per customer\n",
    "total_spent = {}\n",
    "\n",
    "# Loop through each (name, amount) tuple in the purchases list\n",
    "for name, amount in purchases:\n",
    "    # If customer is already in the dictionary, add to their total\n",
    "    if name in total_spent:\n",
    "        total_spent[name] += amount\n",
    "    # If not, add the customer to the dictionary with the current amount\n",
    "    else:\n",
    "        total_spent[name] = amount\n",
    "\n",
    "# Print how much each customer spent in total\n",
    "for customer, total in total_spent.items():\n",
    "    print(f\"{customer} spent ${total}\")"
   ]
  },
  {
   "cell_type": "code",
   "execution_count": null,
   "id": "16f522fd-1ff8-4360-b366-8a89946fb103",
   "metadata": {},
   "outputs": [],
   "source": []
  },
  {
   "cell_type": "code",
   "execution_count": 31,
   "id": "ee79f85a-da7a-47d5-b37c-6fae9ed2e919",
   "metadata": {},
   "outputs": [
    {
     "name": "stdout",
     "output_type": "stream",
     "text": [
      "Requirement already satisfied: wbdata in c:\\anaconda\\lib\\site-packages (1.0.0)\n",
      "Requirement already satisfied: appdirs<2.0,>=1.4 in c:\\anaconda\\lib\\site-packages (from wbdata) (1.4.4)\n",
      "Requirement already satisfied: backoff<3.0.0,>=2.2.1 in c:\\anaconda\\lib\\site-packages (from wbdata) (2.2.1)\n",
      "Requirement already satisfied: cachetools<6.0.0,>=5.3.2 in c:\\anaconda\\lib\\site-packages (from wbdata) (5.3.3)\n",
      "Requirement already satisfied: dateparser<2.0.0,>=1.2.0 in c:\\anaconda\\lib\\site-packages (from wbdata) (1.2.2)\n",
      "Requirement already satisfied: decorator<6.0.0,>=5.1.1 in c:\\anaconda\\lib\\site-packages (from wbdata) (5.1.1)\n",
      "Requirement already satisfied: requests<3.0,>=2.0 in c:\\anaconda\\lib\\site-packages (from wbdata) (2.32.3)\n",
      "Requirement already satisfied: shelved-cache<0.4.0,>=0.3.1 in c:\\anaconda\\lib\\site-packages (from wbdata) (0.3.1)\n",
      "Requirement already satisfied: tabulate<0.9.0,>=0.8.5 in c:\\anaconda\\lib\\site-packages (from wbdata) (0.8.10)\n",
      "Requirement already satisfied: python-dateutil>=2.7.0 in c:\\anaconda\\lib\\site-packages (from dateparser<2.0.0,>=1.2.0->wbdata) (2.9.0.post0)\n",
      "Requirement already satisfied: pytz>=2024.2 in c:\\anaconda\\lib\\site-packages (from dateparser<2.0.0,>=1.2.0->wbdata) (2025.2)\n",
      "Requirement already satisfied: regex>=2024.9.11 in c:\\anaconda\\lib\\site-packages (from dateparser<2.0.0,>=1.2.0->wbdata) (2024.9.11)\n",
      "Requirement already satisfied: tzlocal>=0.2 in c:\\anaconda\\lib\\site-packages (from dateparser<2.0.0,>=1.2.0->wbdata) (5.3.1)\n",
      "Requirement already satisfied: charset-normalizer<4,>=2 in c:\\anaconda\\lib\\site-packages (from requests<3.0,>=2.0->wbdata) (3.3.2)\n",
      "Requirement already satisfied: idna<4,>=2.5 in c:\\anaconda\\lib\\site-packages (from requests<3.0,>=2.0->wbdata) (3.7)\n",
      "Requirement already satisfied: urllib3<3,>=1.21.1 in c:\\anaconda\\lib\\site-packages (from requests<3.0,>=2.0->wbdata) (2.2.3)\n",
      "Requirement already satisfied: certifi>=2017.4.17 in c:\\anaconda\\lib\\site-packages (from requests<3.0,>=2.0->wbdata) (2024.8.30)\n",
      "Requirement already satisfied: six>=1.5 in c:\\anaconda\\lib\\site-packages (from python-dateutil>=2.7.0->dateparser<2.0.0,>=1.2.0->wbdata) (1.16.0)\n",
      "Requirement already satisfied: tzdata in c:\\anaconda\\lib\\site-packages (from tzlocal>=0.2->dateparser<2.0.0,>=1.2.0->wbdata) (2023.3)\n",
      "    date  Population\n",
      "0   2020  52217334.0\n",
      "1   2019  51202827.0\n",
      "2   2018  50207107.0\n",
      "3   2017  49197766.0\n",
      "4   2016  48139687.0\n",
      "5   2015  47088526.0\n",
      "6   2014  46051440.0\n",
      "7   2013  44986791.0\n",
      "8   2012  43888303.0\n",
      "9   2011  42758461.0\n",
      "10  2010  41598567.0\n"
     ]
    }
   ],
   "source": [
    "# Task 6: Use wbdata package to get Kenya population from 2010 to 2020\n",
    "!pip install wbdata\n",
    "\n",
    "import wbdata\n",
    "import pandas as pd\n",
    "from datetime import datetime\n",
    "\n",
    "# Set date range\n",
    "start_date = datetime(2010, 1, 1)\n",
    "end_date = datetime(2020, 12, 31)\n",
    "\n",
    "# Define indicator: Total Population\n",
    "indicators = {'SP.POP.TOTL': 'Population'}\n",
    "\n",
    "# Get population data for Kenya (country code = 'KE')\n",
    "df = wbdata.get_dataframe(indicators, country='KE', date=(start_date, end_date))\n",
    "\n",
    "# Reset index to get 'date' as a column\n",
    "df.reset_index(inplace=True)\n",
    "\n",
    "# Print the result\n",
    "print(df)\n"
   ]
  },
  {
   "cell_type": "code",
   "execution_count": null,
   "id": "359c1986-2c6a-4589-aa29-4fcfc42257e8",
   "metadata": {},
   "outputs": [],
   "source": []
  }
 ],
 "metadata": {
  "kernelspec": {
   "display_name": "Python 3 (ipykernel)",
   "language": "python",
   "name": "python3"
  },
  "language_info": {
   "codemirror_mode": {
    "name": "ipython",
    "version": 3
   },
   "file_extension": ".py",
   "mimetype": "text/x-python",
   "name": "python",
   "nbconvert_exporter": "python",
   "pygments_lexer": "ipython3",
   "version": "3.12.7"
  }
 },
 "nbformat": 4,
 "nbformat_minor": 5
}
